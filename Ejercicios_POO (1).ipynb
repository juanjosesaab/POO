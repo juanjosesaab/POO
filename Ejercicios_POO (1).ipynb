{
  "nbformat": 4,
  "nbformat_minor": 0,
  "metadata": {
    "colab": {
      "provenance": []
    },
    "kernelspec": {
      "name": "python3",
      "display_name": "Python 3"
    },
    "language_info": {
      "name": "python"
    }
  },
  "cells": [
    {
      "cell_type": "markdown",
      "source": [
        "## Ejercicios POO"
      ],
      "metadata": {
        "id": "TgBu7yBbjvVR"
      }
    },
    {
      "cell_type": "markdown",
      "source": [
        "\n",
        "\n",
        "1.   Describe cuáles son las diferencias entre clases y objetos.\n",
        "**Una clase es una plantilla de código para crear objetos, y los objetos tienen variables miembro y tienen un comportamiento asociado a ellas.**\n",
        "2. Describe por qué usamos self como primer argumento en los métodos.\n",
        "**Para que la funcion se auto llame asi misma**\n",
        "3. ¿Qué es un constructor? ¿Y por qué lo usamos?\n",
        "**Es un método de clase especial para crear eh inicializar un objeto en esa clase. Se usa para construir un objeto y asignar un valor a los miembros del objeto.**\n",
        "4. Describir las diferencias entre los atributos de clase y de instancia.\n",
        "**Una instancia dice que algo es un texto, numero, etc. El objeto es el resultado de la definicion.**\n",
        "5. La siguiente es una definición de la clase Punto que toma las coordenadas x, y. Agregue un método plot_point que trace la posición del punto.\n",
        "6. Documenta y prueba con algunos puntos el siguiente código:\n",
        "\n",
        "```\n",
        "#\n",
        "import matplotlib.pyplot as plt\n",
        "\n",
        "class Punto():\n",
        "    def __init__(self, x, y):\n",
        "        self.x = x\n",
        "        self.y = y\n",
        "\n",
        "    def plot(self):\n",
        "        plt.scatter(self.x, self.y, color='red', marker='o')\n",
        "        plt.xlabel('X-axis')\n",
        "        plt.ylabel('Y-axis')\n",
        "        plt.title('Gráfica del punto')\n",
        "        plt.grid(True)\n",
        "        plt.show()\n",
        "```\n",
        "\n",
        "7. Cree una clase para modelar algún objeto del mundo real y cree una nueva clase para heredar de él. Un ejemplo puede ser el siguiente. Deberías usar un ejemplo diferente y usar tantas cosas que aprendimos como sea posible.\n",
        "\n",
        "\n",
        "\n",
        "```\n",
        "# class Carro():\n",
        "    def __init__(self, marca, color):\n",
        "        self.marca = marca\n",
        "        self.color = color\n",
        "    \n",
        "    def encender(self):\n",
        "        print('!Listo para conducir!')\n",
        "        \n",
        "class Camioneta(Carro):\n",
        "    def __init__(self, marca, color, tamaño):\n",
        "        super().__init__(marca, color)\n",
        "        self.tamaño = tamaño\n",
        "        \n",
        "    def encender(self, llave):\n",
        "        if llave == 'llave_camioneta':\n",
        "            print('¡Listo para conducir!')\n",
        "        else:\n",
        "            print('La llave no es la correcta')\n",
        "            \n",
        "    def apagar(self, apagar):\n",
        "        if apagar:\n",
        "            print('¡El motor está apagado!')\n",
        "        else:\n",
        "            print('¡Sigo conduciendo!')\n",
        "\n",
        "```\n",
        "\n",
        "\n",
        "\n"
      ],
      "metadata": {
        "id": "OlqRnXzXhqwb"
      }
    },
    {
      "cell_type": "code",
      "source": [
        "# 5, 6\n",
        "#llamamos matplotlib de la nube\n",
        "import matplotlib.pyplot as plt\n",
        "#definimos la clase madre\n",
        "class Punto():\n",
        "    def __init__(self, x, y):\n",
        "        self.x = x\n",
        "        self.y = y\n",
        "#creamos un atributo para poder crear una grafica usando plt\n",
        "    def plot(self):\n",
        "        plt.scatter(self.x, self.y, color='blue', marker='o')\n",
        "        plt.xlabel('horas')\n",
        "        plt.ylabel('ganancias')\n",
        "        plt.title('Salario por hora trabajada')\n",
        "        plt.grid(True)\n",
        "        plt.show()"
      ],
      "metadata": {
        "id": "7skCcYA0icoq"
      },
      "execution_count": 56,
      "outputs": []
    },
    {
      "cell_type": "code",
      "source": [
        "#Se crea una variable para llamar a la clase madre, se definen x, y\n",
        "punto=Punto(5,10000)"
      ],
      "metadata": {
        "id": "aRy8xmZGo6n4"
      },
      "execution_count": 63,
      "outputs": []
    },
    {
      "cell_type": "code",
      "source": [
        "#creamos la grafica llamando a la clase madre punto con el atributo plot\n",
        "punto.plot()"
      ],
      "metadata": {
        "id": "F921fDAKqFe9",
        "outputId": "892caf39-1356-4e42-939e-5cab39773c8e",
        "colab": {
          "base_uri": "https://localhost:8080/",
          "height": 472
        }
      },
      "execution_count": 64,
      "outputs": [
        {
          "output_type": "display_data",
          "data": {
            "text/plain": [
              "<Figure size 640x480 with 1 Axes>"
            ],
            "image/png": "[encoded data removed]"
          },
          "metadata": {}
        }
      ]
    },
    {
      "cell_type": "code",
      "source": [
        "#Creamos una clase madre llamada consola\n",
        "class Consola():\n",
        "    def __init__(self, compañia, modelo):\n",
        "        self.compañia = compañia\n",
        "        self.modelo = modelo\n",
        "\n",
        "    def jugar(self):\n",
        "        print('Listo para jugar')\n",
        "#Creamos una clase heredada de consola llamada juego\n",
        "class Juego(Consola):\n",
        "    def __init__(self, marca, genero, tamaño):\n",
        "        super().__init__(marca, genero)\n",
        "        self.tamaño = tamaño\n",
        "#Creamos objetos\n",
        "    def jugar(self, disco):\n",
        "        if disco == 'insertar':\n",
        "            print('Pulsa cualquier tecla para comenzar')\n",
        "        else:\n",
        "            print('Este juego no es de esta consola')\n",
        "\n",
        "    def apagar(self, apagar):\n",
        "        if apagar=='apagar':\n",
        "            print('Gracias por jugar')\n",
        "        else:\n",
        "            print('Siga jugando')"
      ],
      "metadata": {
        "id": "LpKwuqErvnH_"
      },
      "execution_count": 32,
      "outputs": []
    },
    {
      "cell_type": "code",
      "source": [
        "#Creamos variables de las clases\n",
        "consola=Consola('Xbox','One')"
      ],
      "metadata": {
        "id": "58NmII2Rw6DE"
      },
      "execution_count": 33,
      "outputs": []
    },
    {
      "cell_type": "code",
      "source": [
        "#Llamamos a los objetos de las clases\n",
        "consola.jugar()"
      ],
      "metadata": {
        "colab": {
          "base_uri": "https://localhost:8080/"
        },
        "id": "koC8IJrAxKL8",
        "outputId": "e228ee2d-15fa-4ee4-e81c-ea9e7f00f9bd"
      },
      "execution_count": 18,
      "outputs": [
        {
          "output_type": "stream",
          "name": "stdout",
          "text": [
            "Listo para jugar\n"
          ]
        }
      ]
    },
    {
      "cell_type": "code",
      "source": [
        "juego=Juego('microsoft', 'aventura', '100 GB')"
      ],
      "metadata": {
        "id": "O2g7K6m0yTWr"
      },
      "execution_count": 36,
      "outputs": []
    },
    {
      "cell_type": "code",
      "source": [
        "juego.jugar('inserte disco del juego')"
      ],
      "metadata": {
        "colab": {
          "base_uri": "https://localhost:8080/"
        },
        "id": "Y615YgPF0lBZ",
        "outputId": "343495a3-119a-4252-d643-591034faa6ec"
      },
      "execution_count": 66,
      "outputs": [
        {
          "output_type": "stream",
          "name": "stdout",
          "text": [
            "Pulsa cualquier tecla para comenzar\n"
          ]
        }
      ]
    },
    {
      "cell_type": "code",
      "source": [
        "juego.apagar('apagar')"
      ],
      "metadata": {
        "colab": {
          "base_uri": "https://localhost:8080/"
        },
        "id": "QLVNfvco2pS2",
        "outputId": "9df8093d-1f4b-4e4a-a450-431e75eff658"
      },
      "execution_count": 69,
      "outputs": [
        {
          "output_type": "stream",
          "name": "stdout",
          "text": [
            "Gracias por jugar\n"
          ]
        }
      ]
    }
  ]
}