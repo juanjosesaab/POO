{
  "nbformat": 4,
  "nbformat_minor": 0,
  "metadata": {
    "colab": {
      "provenance": []
    },
    "kernelspec": {
      "name": "python3",
      "display_name": "Python 3"
    },
    "language_info": {
      "name": "python"
    }
  },
  "cells": [
    {
      "cell_type": "markdown",
      "source": [
        "# **Listas**"
      ],
      "metadata": {
        "id": "dp9fiYLrTR9R"
      }
    },
    {
      "cell_type": "code",
      "execution_count": null,
      "metadata": {
        "colab": {
          "base_uri": "https://localhost:8080/"
        },
        "id": "322knu2wRt_S",
        "outputId": "b5d4ada4-d559-421a-ee68-81a69a6a7f7a"
      },
      "outputs": [
        {
          "output_type": "execute_result",
          "data": {
            "text/plain": [
              "range(0, 10)"
            ]
          },
          "metadata": {},
          "execution_count": 27
        }
      ],
      "source": [
        "# Vamos a generar una lista vacia\n",
        "L=[]\n",
        "range(10)"
      ]
    },
    {
      "cell_type": "code",
      "source": [
        "#creamos la lista L\n",
        "L=[1, 2, 3, 4]\n",
        "L"
      ],
      "metadata": {
        "colab": {
          "base_uri": "https://localhost:8080/"
        },
        "id": "BECk_vzCV-_1",
        "outputId": "5bde6d44-c9d6-4942-b236-831a22f63fec"
      },
      "execution_count": null,
      "outputs": [
        {
          "output_type": "execute_result",
          "data": {
            "text/plain": [
              "[1, 2, 3, 4]"
            ]
          },
          "metadata": {},
          "execution_count": 13
        }
      ]
    },
    {
      "cell_type": "code",
      "source": [
        "# agregaremos numeros y quitaremos numeros deseados\n",
        "L.append(5)\n",
        "L.remove(5)\n",
        "L"
      ],
      "metadata": {
        "colab": {
          "base_uri": "https://localhost:8080/"
        },
        "id": "Fbn0SS2EW_E7",
        "outputId": "bda7a73e-e595-47ef-a2dd-42c9b895c86e"
      },
      "execution_count": null,
      "outputs": [
        {
          "output_type": "execute_result",
          "data": {
            "text/plain": [
              "[1, 2, 3, 4, 5]"
            ]
          },
          "metadata": {},
          "execution_count": 44
        }
      ]
    },
    {
      "cell_type": "code",
      "source": [
        "#Imprimimos una lista\n",
        "for i in range(11): print(i)"
      ],
      "metadata": {
        "colab": {
          "base_uri": "https://localhost:8080/"
        },
        "id": "t5G9zVecVWcX",
        "outputId": "851ee8d2-6744-4e41-8769-6a2525218668"
      },
      "execution_count": null,
      "outputs": [
        {
          "output_type": "stream",
          "name": "stdout",
          "text": [
            "0\n",
            "1\n",
            "2\n",
            "3\n",
            "4\n",
            "5\n",
            "6\n",
            "7\n",
            "8\n",
            "9\n",
            "10\n"
          ]
        }
      ]
    },
    {
      "cell_type": "markdown",
      "source": [
        "# **Listas por comprension**"
      ],
      "metadata": {
        "id": "8cUHO2VxaIr4"
      }
    },
    {
      "cell_type": "code",
      "source": [
        "#determinamos el tipo\n",
        "type([])"
      ],
      "metadata": {
        "colab": {
          "base_uri": "https://localhost:8080/"
        },
        "id": "7QmJuzHwaNbk",
        "outputId": "072614df-c03f-40d5-8262-e4219f92626b"
      },
      "execution_count": null,
      "outputs": [
        {
          "output_type": "execute_result",
          "data": {
            "text/plain": [
              "list"
            ]
          },
          "metadata": {},
          "execution_count": 46
        }
      ]
    },
    {
      "cell_type": "code",
      "source": [
        "#determinamos la longitud de la lista\n",
        "len([2, 4, 6, 8])"
      ],
      "metadata": {
        "colab": {
          "base_uri": "https://localhost:8080/"
        },
        "id": "_blrXOp7aYOw",
        "outputId": "6ece76a0-21a9-4c65-8fd1-61730550f49b"
      },
      "execution_count": null,
      "outputs": [
        {
          "output_type": "execute_result",
          "data": {
            "text/plain": [
              "4"
            ]
          },
          "metadata": {},
          "execution_count": 49
        }
      ]
    },
    {
      "cell_type": "code",
      "source": [
        "#Creamos una lista de solo pares\n",
        "Pares=[i for i in range(1,101) if i%2==0]\n",
        "Pares"
      ],
      "metadata": {
        "colab": {
          "base_uri": "https://localhost:8080/"
        },
        "id": "x6K81eodbJdx",
        "outputId": "140d946c-becb-46e0-be48-1c7f9b48e33c"
      },
      "execution_count": null,
      "outputs": [
        {
          "output_type": "execute_result",
          "data": {
            "text/plain": [
              "[2,\n",
              " 4,\n",
              " 6,\n",
              " 8,\n",
              " 10,\n",
              " 12,\n",
              " 14,\n",
              " 16,\n",
              " 18,\n",
              " 20,\n",
              " 22,\n",
              " 24,\n",
              " 26,\n",
              " 28,\n",
              " 30,\n",
              " 32,\n",
              " 34,\n",
              " 36,\n",
              " 38,\n",
              " 40,\n",
              " 42,\n",
              " 44,\n",
              " 46,\n",
              " 48,\n",
              " 50,\n",
              " 52,\n",
              " 54,\n",
              " 56,\n",
              " 58,\n",
              " 60,\n",
              " 62,\n",
              " 64,\n",
              " 66,\n",
              " 68,\n",
              " 70,\n",
              " 72,\n",
              " 74,\n",
              " 76,\n",
              " 78,\n",
              " 80,\n",
              " 82,\n",
              " 84,\n",
              " 86,\n",
              " 88,\n",
              " 90,\n",
              " 92,\n",
              " 94,\n",
              " 96,\n",
              " 98,\n",
              " 100]"
            ]
          },
          "metadata": {},
          "execution_count": 67
        }
      ]
    },
    {
      "cell_type": "code",
      "source": [
        "#creamos una lista de solo impares\n",
        "Impares=[i for i in range(1,101) if i%2!=0]\n",
        "Impares"
      ],
      "metadata": {
        "colab": {
          "base_uri": "https://localhost:8080/"
        },
        "id": "rvZXBTe-d6mW",
        "outputId": "ebc7c7f1-c7e0-47ed-84f3-d20844c58670"
      },
      "execution_count": null,
      "outputs": [
        {
          "output_type": "execute_result",
          "data": {
            "text/plain": [
              "[1,\n",
              " 3,\n",
              " 5,\n",
              " 7,\n",
              " 9,\n",
              " 11,\n",
              " 13,\n",
              " 15,\n",
              " 17,\n",
              " 19,\n",
              " 21,\n",
              " 23,\n",
              " 25,\n",
              " 27,\n",
              " 29,\n",
              " 31,\n",
              " 33,\n",
              " 35,\n",
              " 37,\n",
              " 39,\n",
              " 41,\n",
              " 43,\n",
              " 45,\n",
              " 47,\n",
              " 49,\n",
              " 51,\n",
              " 53,\n",
              " 55,\n",
              " 57,\n",
              " 59,\n",
              " 61,\n",
              " 63,\n",
              " 65,\n",
              " 67,\n",
              " 69,\n",
              " 71,\n",
              " 73,\n",
              " 75,\n",
              " 77,\n",
              " 79,\n",
              " 81,\n",
              " 83,\n",
              " 85,\n",
              " 87,\n",
              " 89,\n",
              " 91,\n",
              " 93,\n",
              " 95,\n",
              " 97,\n",
              " 99]"
            ]
          },
          "metadata": {},
          "execution_count": 72
        }
      ]
    },
    {
      "cell_type": "markdown",
      "source": [
        "# **Modulo NumPy**"
      ],
      "metadata": {
        "id": "gjKNnDpufl3R"
      }
    },
    {
      "cell_type": "code",
      "source": [
        "# llamamos a numpy por el codiga renombrandolo a np\n",
        "import numpy as np\n",
        "np.random.randint(1,101,3)"
      ],
      "metadata": {
        "colab": {
          "base_uri": "https://localhost:8080/"
        },
        "id": "Op303bKdej-d",
        "outputId": "7091f3f2-e149-477d-88e3-a336ccadf648"
      },
      "execution_count": null,
      "outputs": [
        {
          "output_type": "execute_result",
          "data": {
            "text/plain": [
              "array([92, 47, 10])"
            ]
          },
          "metadata": {},
          "execution_count": 126
        }
      ]
    },
    {
      "cell_type": "code",
      "source": [
        "# Creamos la lista de numeros aleatorios\n",
        "Lista=[x for x in np.random.randint(1,11,100)]\n",
        "Lista"
      ],
      "metadata": {
        "colab": {
          "base_uri": "https://localhost:8080/"
        },
        "id": "t18cYoeohh7y",
        "outputId": "c25108ec-34c2-42e5-8df0-f8ffa2eddc7f"
      },
      "execution_count": null,
      "outputs": [
        {
          "output_type": "execute_result",
          "data": {
            "text/plain": [
              "[3,\n",
              " 7,\n",
              " 10,\n",
              " 1,\n",
              " 7,\n",
              " 3,\n",
              " 9,\n",
              " 6,\n",
              " 8,\n",
              " 5,\n",
              " 7,\n",
              " 6,\n",
              " 9,\n",
              " 7,\n",
              " 10,\n",
              " 7,\n",
              " 1,\n",
              " 10,\n",
              " 2,\n",
              " 5,\n",
              " 9,\n",
              " 2,\n",
              " 4,\n",
              " 2,\n",
              " 10,\n",
              " 8,\n",
              " 4,\n",
              " 6,\n",
              " 7,\n",
              " 7,\n",
              " 3,\n",
              " 4,\n",
              " 2,\n",
              " 10,\n",
              " 7,\n",
              " 1,\n",
              " 8,\n",
              " 9,\n",
              " 9,\n",
              " 6,\n",
              " 3,\n",
              " 4,\n",
              " 1,\n",
              " 6,\n",
              " 6,\n",
              " 2,\n",
              " 2,\n",
              " 4,\n",
              " 1,\n",
              " 9,\n",
              " 10,\n",
              " 9,\n",
              " 8,\n",
              " 8,\n",
              " 4,\n",
              " 3,\n",
              " 3,\n",
              " 2,\n",
              " 2,\n",
              " 2,\n",
              " 1,\n",
              " 3,\n",
              " 6,\n",
              " 3,\n",
              " 7,\n",
              " 4,\n",
              " 4,\n",
              " 1,\n",
              " 4,\n",
              " 7,\n",
              " 7,\n",
              " 5,\n",
              " 3,\n",
              " 7,\n",
              " 8,\n",
              " 8,\n",
              " 1,\n",
              " 10,\n",
              " 7,\n",
              " 5,\n",
              " 8,\n",
              " 4,\n",
              " 7,\n",
              " 10,\n",
              " 7,\n",
              " 3,\n",
              " 1,\n",
              " 1,\n",
              " 10,\n",
              " 7,\n",
              " 8,\n",
              " 4,\n",
              " 8,\n",
              " 3,\n",
              " 6,\n",
              " 6,\n",
              " 4,\n",
              " 10,\n",
              " 10,\n",
              " 6]"
            ]
          },
          "metadata": {},
          "execution_count": 141
        }
      ]
    },
    {
      "cell_type": "code",
      "source": [
        "# Señalamos solo los pares\n",
        "pares=[y for y in Lista if y%2==0]\n",
        "pares"
      ],
      "metadata": {
        "id": "0h82e0FPinWk",
        "outputId": "0a57f1a4-9348-4c6a-bd4f-8942faa39dbc",
        "colab": {
          "base_uri": "https://localhost:8080/"
        }
      },
      "execution_count": null,
      "outputs": [
        {
          "output_type": "execute_result",
          "data": {
            "text/plain": [
              "[10,\n",
              " 6,\n",
              " 8,\n",
              " 6,\n",
              " 10,\n",
              " 10,\n",
              " 2,\n",
              " 2,\n",
              " 4,\n",
              " 2,\n",
              " 10,\n",
              " 8,\n",
              " 4,\n",
              " 6,\n",
              " 4,\n",
              " 2,\n",
              " 10,\n",
              " 8,\n",
              " 6,\n",
              " 4,\n",
              " 6,\n",
              " 6,\n",
              " 2,\n",
              " 2,\n",
              " 4,\n",
              " 10,\n",
              " 8,\n",
              " 8,\n",
              " 4,\n",
              " 2,\n",
              " 2,\n",
              " 2,\n",
              " 6,\n",
              " 4,\n",
              " 4,\n",
              " 4,\n",
              " 8,\n",
              " 8,\n",
              " 10,\n",
              " 8,\n",
              " 4,\n",
              " 10,\n",
              " 10,\n",
              " 8,\n",
              " 4,\n",
              " 8,\n",
              " 6,\n",
              " 6,\n",
              " 4,\n",
              " 10,\n",
              " 10,\n",
              " 6]"
            ]
          },
          "metadata": {},
          "execution_count": 142
        }
      ]
    }
  ]
}