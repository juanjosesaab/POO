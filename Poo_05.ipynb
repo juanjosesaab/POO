{
  "nbformat": 4,
  "nbformat_minor": 0,
  "metadata": {
    "colab": {
      "provenance": []
    },
    "kernelspec": {
      "name": "python3",
      "display_name": "Python 3"
    },
    "language_info": {
      "name": "python"
    }
  },
  "cells": [
    {
      "cell_type": "markdown",
      "source": [
        "# **Matrices**"
      ],
      "metadata": {
        "id": "_hJH8bGnniUV"
      }
    },
    {
      "cell_type": "code",
      "source": [
        "import numpy as np"
      ],
      "metadata": {
        "id": "7LCmlsSVn8dE"
      },
      "execution_count": 1,
      "outputs": []
    },
    {
      "cell_type": "code",
      "source": [
        "# seed es para poner el canal 1 asi estoy vinculado a un orden especifico\n",
        "np.random.seed(1)\n",
        "\n",
        "np.random.randint(1,21, size=15)"
      ],
      "metadata": {
        "colab": {
          "base_uri": "https://localhost:8080/"
        },
        "id": "FBY5RMbtoA8z",
        "outputId": "c2ff89a1-2030-4ab9-f0a5-2bda3b9af979"
      },
      "execution_count": 5,
      "outputs": [
        {
          "output_type": "execute_result",
          "data": {
            "text/plain": [
              "array([ 6, 12, 13,  9, 10, 12,  6, 16,  1, 17,  2, 13,  8, 14,  7])"
            ]
          },
          "metadata": {},
          "execution_count": 5
        }
      ]
    },
    {
      "cell_type": "code",
      "execution_count": 45,
      "metadata": {
        "colab": {
          "base_uri": "https://localhost:8080/"
        },
        "id": "nqAqr-NPnPn-",
        "outputId": "4ce17e35-5a74-48eb-cd32-9243af6ad40c"
      },
      "outputs": [
        {
          "output_type": "execute_result",
          "data": {
            "text/plain": [
              "[2, 2, 4, 4, 4, 4, 6, 6, 6, 8, 8, 8, 8, 8, 10, 10, 12, 14, 18, 20, 20, 20, 20]"
            ]
          },
          "metadata": {},
          "execution_count": 45
        }
      ],
      "source": [
        "# L.sort ordena de manera ascendente, de la lista random sacamos solo los pares\n",
        "L=[i for i in np.random.randint(1,21, size=40) if i%2==0]\n",
        "L.sort()\n",
        "L"
      ]
    },
    {
      "cell_type": "code",
      "source": [
        "# muestra en orden numerico correspondiente al de la lista, si el numero solicitado es impar se salta uno de la lista, si es par lo muestra seguido al del impar\n",
        "L.pop()"
      ],
      "metadata": {
        "colab": {
          "base_uri": "https://localhost:8080/"
        },
        "id": "atPyjlyTsol_",
        "outputId": "6aaed2b9-69c4-4007-a683-7b0a2d19312b"
      },
      "execution_count": 46,
      "outputs": [
        {
          "output_type": "execute_result",
          "data": {
            "text/plain": [
              "20"
            ]
          },
          "metadata": {},
          "execution_count": 46
        }
      ]
    },
    {
      "cell_type": "code",
      "source": [
        "L.remove(4)\n",
        "L"
      ],
      "metadata": {
        "colab": {
          "base_uri": "https://localhost:8080/"
        },
        "id": "Kta4aaZwsxQF",
        "outputId": "2362d689-29f9-4433-fd1d-8a37e759f4bc"
      },
      "execution_count": 22,
      "outputs": [
        {
          "output_type": "execute_result",
          "data": {
            "text/plain": [
              "[2, 6, 6, 6, 6, 6, 8, 8, 10, 12, 12, 14, 16, 16, 18]"
            ]
          },
          "metadata": {},
          "execution_count": 22
        }
      ]
    },
    {
      "cell_type": "code",
      "source": [
        "L+[6]"
      ],
      "metadata": {
        "colab": {
          "base_uri": "https://localhost:8080/"
        },
        "id": "S8lh8cF2tUo_",
        "outputId": "02e30cf4-306f-42bd-bd5a-2b214ec06a18"
      },
      "execution_count": 90,
      "outputs": [
        {
          "output_type": "execute_result",
          "data": {
            "text/plain": [
              "[2, 2, 4, 8, 10, 10, 14, 18, 20, 20, 20, 6]"
            ]
          },
          "metadata": {},
          "execution_count": 90
        }
      ]
    },
    {
      "cell_type": "code",
      "source": [
        "# Convertimos L en una vector\n",
        "L_arreglo=np.array(L)\n",
        "L_arreglo"
      ],
      "metadata": {
        "colab": {
          "base_uri": "https://localhost:8080/"
        },
        "id": "7CLuTxwptjyG",
        "outputId": "b2e51c1c-fa0e-4fc8-8c7a-61b7bbbe5e3c"
      },
      "execution_count": 97,
      "outputs": [
        {
          "output_type": "execute_result",
          "data": {
            "text/plain": [
              "array([ 8, 10, 10, 14, 18, 20, 20, 20,  4])"
            ]
          },
          "metadata": {},
          "execution_count": 97
        }
      ]
    },
    {
      "cell_type": "code",
      "source": [
        "L.append(4)\n",
        "L"
      ],
      "metadata": {
        "colab": {
          "base_uri": "https://localhost:8080/"
        },
        "id": "CsbaaTxy1wHx",
        "outputId": "56ebcb6a-84e6-46a0-cb79-3be10e634424"
      },
      "execution_count": 96,
      "outputs": [
        {
          "output_type": "execute_result",
          "data": {
            "text/plain": [
              "[8, 10, 10, 14, 18, 20, 20, 20, 4]"
            ]
          },
          "metadata": {},
          "execution_count": 96
        }
      ]
    },
    {
      "cell_type": "code",
      "source": [
        "#determinamos el largo de la vector, si la vector es prima solo se puede crear de ese numero por 1\n",
        "len(L_arreglo)"
      ],
      "metadata": {
        "colab": {
          "base_uri": "https://localhost:8080/"
        },
        "id": "gTdvy0BtxOk3",
        "outputId": "8830a1e3-a1cf-484c-99f2-ead2dee1a877"
      },
      "execution_count": 98,
      "outputs": [
        {
          "output_type": "execute_result",
          "data": {
            "text/plain": [
              "9"
            ]
          },
          "metadata": {},
          "execution_count": 98
        }
      ]
    },
    {
      "cell_type": "code",
      "source": [
        "#creamos la matriz\n",
        "L_arreglo.reshape(3,3)"
      ],
      "metadata": {
        "colab": {
          "base_uri": "https://localhost:8080/"
        },
        "id": "SpmNFa4pz22r",
        "outputId": "9c459cec-60a1-42b9-b146-ed871307a82f"
      },
      "execution_count": 99,
      "outputs": [
        {
          "output_type": "execute_result",
          "data": {
            "text/plain": [
              "array([[ 8, 10, 10],\n",
              "       [14, 18, 20],\n",
              "       [20, 20,  4]])"
            ]
          },
          "metadata": {},
          "execution_count": 99
        }
      ]
    },
    {
      "cell_type": "code",
      "source": [
        "#declaramos L matriz\n",
        "L_matriz=L_arreglo.reshape(3,3)"
      ],
      "metadata": {
        "id": "XRLRWVsD27OQ"
      },
      "execution_count": 104,
      "outputs": []
    },
    {
      "cell_type": "code",
      "source": [
        "#declaramos M matriz\n",
        "M_matriz=np.array([2,3,14,19,13,0,5,25,69]).reshape(3,3)\n",
        "M_matriz"
      ],
      "metadata": {
        "colab": {
          "base_uri": "https://localhost:8080/"
        },
        "id": "OwJwQkB40oa4",
        "outputId": "bb3604d4-38a1-4b6c-f6c0-e772af200215"
      },
      "execution_count": 110,
      "outputs": [
        {
          "output_type": "execute_result",
          "data": {
            "text/plain": [
              "array([[ 2,  3, 14],\n",
              "       [19, 13,  0],\n",
              "       [ 5, 25, 69]])"
            ]
          },
          "metadata": {},
          "execution_count": 110
        }
      ]
    },
    {
      "cell_type": "code",
      "source": [
        "# Multiplicamos ambas matrices\n",
        "N= L_matriz @ M_matriz\n",
        "N"
      ],
      "metadata": {
        "colab": {
          "base_uri": "https://localhost:8080/"
        },
        "id": "Qqx7bK1p05d3",
        "outputId": "a8f3d48a-ebb4-4b16-c882-7808f6a9d9cf"
      },
      "execution_count": 111,
      "outputs": [
        {
          "output_type": "execute_result",
          "data": {
            "text/plain": [
              "array([[ 256,  404,  802],\n",
              "       [ 470,  776, 1576],\n",
              "       [ 440,  420,  556]])"
            ]
          },
          "metadata": {},
          "execution_count": 111
        }
      ]
    }
  ]
}