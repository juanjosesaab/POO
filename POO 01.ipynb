{
  "nbformat": 4,
  "nbformat_minor": 0,
  "metadata": {
    "colab": {
      "provenance": []
    },
    "kernelspec": {
      "name": "python3",
      "display_name": "Python 3"
    },
    "language_info": {
      "name": "python"
    }
  },
  "cells": [
    {
      "cell_type": "code",
      "execution_count": null,
      "metadata": {
        "id": "TGHDMg9Ek30C"
      },
      "outputs": [],
      "source": []
    },
    {
      "cell_type": "markdown",
      "source": [
        "# Primeros objetos\n",
        "\n",
        "\n",
        "1. Objetos.\n",
        "2. Listas.\n",
        "3. Conjuntos."
      ],
      "metadata": {
        "id": "5LIkXTcpk_cG"
      }
    },
    {
      "cell_type": "markdown",
      "source": [
        "en python se pueden realizar operaciones sobre objetos. Además, es útil para resolver un sistema de ecuaciones lineales.\n",
        "$$\n",
        "f(x,y)=\\begin{cases}\n",
        "x+2y=3\\\\\n",
        "2x+4y=6\n",
        "\\end{cases}\n",
        "$$"
      ],
      "metadata": {
        "id": "mvpJk-Ckl_Ug"
      }
    },
    {
      "cell_type": "code",
      "source": [
        "print(\"QUE BOLAAAAAS!!!!\")"
      ],
      "metadata": {
        "colab": {
          "base_uri": "https://localhost:8080/"
        },
        "id": "NdPQZfytqXEK",
        "outputId": "3eda48ee-c68a-4fa7-ff11-e65f6c7559da"
      },
      "execution_count": 3,
      "outputs": [
        {
          "output_type": "stream",
          "name": "stdout",
          "text": [
            "QUE BOLAAAAAS!!!!\n"
          ]
        }
      ]
    },
    {
      "cell_type": "markdown",
      "source": [
        "## Primeros objetos\n",
        "\n",
        "1. Números Enteros.\n",
        "2. Números Flotantes."
      ],
      "metadata": {
        "id": "50kUansHrqgq"
      }
    },
    {
      "cell_type": "code",
      "source": [
        "# Crear variables\n",
        "x=3\n",
        "y=5"
      ],
      "metadata": {
        "id": "-XlQt9pBrE5M"
      },
      "execution_count": 5,
      "outputs": []
    },
    {
      "cell_type": "code",
      "source": [
        "# doble asterisco es potencia, tambien se usa para raiz. doble slash es el enterro mas cercano hacia abajo. el porcentaje es el reciduo\n",
        "print(x+y)\n",
        "print(x-y)\n",
        "print(x*y)\n",
        "print(x**y)\n",
        "print(x/y)\n",
        "print(x//y)\n",
        "print(x%y)"
      ],
      "metadata": {
        "colab": {
          "base_uri": "https://localhost:8080/"
        },
        "id": "AtWQlymCswcR",
        "outputId": "72a3e71c-9046-49a9-8661-8c5b0d47b05a"
      },
      "execution_count": 12,
      "outputs": [
        {
          "output_type": "stream",
          "name": "stdout",
          "text": [
            "8\n",
            "-2\n",
            "15\n",
            "243\n",
            "0.6\n",
            "0\n",
            "3\n"
          ]
        }
      ]
    },
    {
      "cell_type": "code",
      "source": [
        "print(type(x+y))\n",
        "print(type(x-y))\n",
        "print(type(x*y))\n",
        "print(type(x**y))\n",
        "print(type(x/y))\n",
        "print(type(x//y))\n",
        "print(type(x%y))"
      ],
      "metadata": {
        "colab": {
          "base_uri": "https://localhost:8080/"
        },
        "id": "7XM4899qv6_P",
        "outputId": "002dea1f-9a1c-46f9-fc5d-85d3351d5afc"
      },
      "execution_count": 15,
      "outputs": [
        {
          "output_type": "stream",
          "name": "stdout",
          "text": [
            "<class 'int'>\n",
            "<class 'int'>\n",
            "<class 'int'>\n",
            "<class 'int'>\n",
            "<class 'float'>\n",
            "<class 'int'>\n",
            "<class 'int'>\n"
          ]
        }
      ]
    }
  ]
}