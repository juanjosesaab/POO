{
  "nbformat": 4,
  "nbformat_minor": 0,
  "metadata": {
    "colab": {
      "provenance": []
    },
    "kernelspec": {
      "name": "python3",
      "display_name": "Python 3"
    },
    "language_info": {
      "name": "python"
    }
  },
  "cells": [
    {
      "cell_type": "code",
      "execution_count": 1,
      "metadata": {
        "id": "jNmrCHcBmjex"
      },
      "outputs": [],
      "source": [
        "class Formulas:\n",
        "  def __init__(self):\n",
        "    print(\"Que quieres\")"
      ]
    },
    {
      "cell_type": "code",
      "source": [
        "formulas=Formulas()"
      ],
      "metadata": {
        "colab": {
          "base_uri": "https://localhost:8080/"
        },
        "id": "OcZ9TEx9sI3K",
        "outputId": "931c6e15-1e34-47f3-d3ae-63672f92d9e7"
      },
      "execution_count": 2,
      "outputs": [
        {
          "output_type": "stream",
          "name": "stdout",
          "text": [
            "Que quieres\n"
          ]
        }
      ]
    },
    {
      "cell_type": "code",
      "source": [
        "class Equilatero(Formulas):\n",
        "  def __init__(self, lado):\n",
        "    self.area = ((3**(1/2))*(lado**2))/4\n",
        "    self.perimetro = 3*lado"
      ],
      "metadata": {
        "id": "-dgRRaAUsQ0t"
      },
      "execution_count": 3,
      "outputs": []
    },
    {
      "cell_type": "code",
      "source": [
        "equilatero=Equilatero(3)"
      ],
      "metadata": {
        "id": "Y7x0E3E1tGrY"
      },
      "execution_count": 4,
      "outputs": []
    },
    {
      "cell_type": "code",
      "source": [
        "equilatero.area"
      ],
      "metadata": {
        "colab": {
          "base_uri": "https://localhost:8080/"
        },
        "id": "o8V59XQSvwhu",
        "outputId": "9fd39c90-201b-4534-befa-62875a9fc9c3"
      },
      "execution_count": 5,
      "outputs": [
        {
          "output_type": "execute_result",
          "data": {
            "text/plain": [
              "3.8971143170299736"
            ]
          },
          "metadata": {},
          "execution_count": 5
        }
      ]
    },
    {
      "cell_type": "code",
      "source": [
        "equilatero.perimetro"
      ],
      "metadata": {
        "colab": {
          "base_uri": "https://localhost:8080/"
        },
        "id": "o4wG847XvzJe",
        "outputId": "4bebffbf-de9e-45a9-8579-693de854924e"
      },
      "execution_count": 6,
      "outputs": [
        {
          "output_type": "execute_result",
          "data": {
            "text/plain": [
              "9"
            ]
          },
          "metadata": {},
          "execution_count": 6
        }
      ]
    },
    {
      "cell_type": "code",
      "source": [
        "import numpy as np\n",
        "class Lista(Formulas):\n",
        "  def __init__(self, matriz):\n",
        "   self.matriz=matriz\n",
        "  def Crearmatriz():\n",
        "    matriz=np.array([1,2,3,4,5,6,7,8,9,10,11,12,13,14,15,16]). reshape(4,4)\n",
        "    return matriz\n",
        "  def Det():\n",
        "    matriz=np.array([1,2,3,4,5,6,7,8,9,10,11,12,13,14,15,16]). reshape(4,4)\n",
        "    a= np.linalg.det(matriz)\n",
        "    return a"
      ],
      "metadata": {
        "id": "POEEg9GX5t2-"
      },
      "execution_count": 27,
      "outputs": []
    },
    {
      "cell_type": "code",
      "source": [
        "lista=Lista.Crearmatriz()"
      ],
      "metadata": {
        "id": "CK6IG3Rzu77J"
      },
      "execution_count": 23,
      "outputs": []
    },
    {
      "cell_type": "code",
      "source": [
        "lista"
      ],
      "metadata": {
        "colab": {
          "base_uri": "https://localhost:8080/"
        },
        "id": "fvHjMi0-A5I_",
        "outputId": "127b0529-4eb3-42ea-a81a-40d3ce1f5892"
      },
      "execution_count": 24,
      "outputs": [
        {
          "output_type": "execute_result",
          "data": {
            "text/plain": [
              "array([[ 1,  2,  3,  4],\n",
              "       [ 5,  6,  7,  8],\n",
              "       [ 9, 10, 11, 12],\n",
              "       [13, 14, 15, 16]])"
            ]
          },
          "metadata": {},
          "execution_count": 24
        }
      ]
    },
    {
      "cell_type": "code",
      "source": [
        "Lista.Det()"
      ],
      "metadata": {
        "colab": {
          "base_uri": "https://localhost:8080/"
        },
        "id": "bZDd4v0ZA79U",
        "outputId": "8ed20d6b-fe91-4b1c-b001-a64324973825"
      },
      "execution_count": 30,
      "outputs": [
        {
          "output_type": "execute_result",
          "data": {
            "text/plain": [
              "0.0"
            ]
          },
          "metadata": {},
          "execution_count": 30
        }
      ]
    }
  ]
}